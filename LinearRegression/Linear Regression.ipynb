{
 "cells": [
  {
   "cell_type": "markdown",
   "id": "4f07e6db",
   "metadata": {},
   "source": [
    "# Linear Regression\n",
    "\n",
    "Implementation of single variable linear regression from scratch\n",
    "\n",
    "**Problem Statement**\n",
    "Predict the price of a house given it's size"
   ]
  },
  {
   "cell_type": "code",
   "execution_count": 1,
   "id": "cfad51aa",
   "metadata": {},
   "outputs": [],
   "source": [
    "import pandas as pd\n",
    "import numpy as np\n",
    "import matplotlib.pyplot as plt\n",
    "import copy"
   ]
  },
  {
   "cell_type": "code",
   "execution_count": 2,
   "id": "7793e362",
   "metadata": {},
   "outputs": [],
   "source": [
    "# load training data\n",
    "data_file = 'data.txt'\n",
    "df = pd.read_csv(data_file, names=['size', 'no. of bedrooms', 'price'], sep=',')"
   ]
  },
  {
   "cell_type": "code",
   "execution_count": null,
   "id": "0b8c1a81",
   "metadata": {},
   "outputs": [],
   "source": [
    "print(f\"data size: {len(df)}\")\n",
    "df.head()"
   ]
  },
  {
   "cell_type": "code",
   "execution_count": null,
   "id": "5b2b8eb8",
   "metadata": {},
   "outputs": [],
   "source": [
    "def split_train_test(df, train_frac: float, seed=200):\n",
    "    \"\"\"\n",
    "    splits the data into training and test data in the given required fraction of train data\n",
    "    \"\"\"\n",
    "    train = df.sample(frac=train_frac, random_state=seed)\n",
    "    test  = df.drop(train.index)\n",
    "    return train, test"
   ]
  },
  {
   "cell_type": "code",
   "execution_count": null,
   "id": "8e454154",
   "metadata": {},
   "outputs": [],
   "source": [
    "# split the data into training and testing set\n",
    "train_data, test_data = split_train_test(df, 0.8)\n",
    "print(f\"training data - {len(train_data)}\")\n",
    "print(train_data.head())\n",
    "print(f\"\\ntest data - {len(test_data)}\")\n",
    "print(test_data.head())"
   ]
  },
  {
   "cell_type": "markdown",
   "id": "5e5d8a71",
   "metadata": {},
   "source": [
    "## Cost function\n",
    "\n",
    "The cost function is used to get a sense of \"how well our model is performing\" <br>\n",
    "It can be defined as:\n",
    "\n",
    "<font size=4> J(**w**,b) = $\\frac{1}{2m}$.$\\sum_{i=1}^{m} (f_{\\mathbf{w},b}(\\mathbf{x}^{(i)}) - y^{(i)})^2$</font>"
   ]
  },
  {
   "cell_type": "code",
   "execution_count": null,
   "id": "7dcc7897",
   "metadata": {},
   "outputs": [],
   "source": [
    "def compute_cost(X, y, w, b):\n",
    "    m = X.shape[0]\n",
    "    \n",
    "    cost = 0\n",
    "    for i in range(m):\n",
    "        f_wb_i = np.dot(w, X[i]) + b\n",
    "        cost = cost + (f_wb_i - y[i]) ** 2\n",
    "    \n",
    "    return cost * 0.5 / m"
   ]
  },
  {
   "cell_type": "code",
   "execution_count": null,
   "id": "4d46b2b8",
   "metadata": {},
   "outputs": [],
   "source": [
    "X, y = train_data['size'].to_numpy().reshape(-1, 1) / 1000, train_data['price'].to_numpy() / 1000\n",
    "w_initial = np.zeros((1,))\n",
    "b_initial = 0\n",
    "cost = compute_cost(X, y, w_initial, b_initial)\n",
    "print(f\"with w={w_initial} b={b_initial} \\n{cost=:.4f}\")"
   ]
  },
  {
   "cell_type": "code",
   "execution_count": null,
   "id": "6f196cbc",
   "metadata": {},
   "outputs": [],
   "source": [
    "# plot training data\n",
    "train_df = train_data[['size','price']] / 1000\n",
    "\n",
    "plt.scatter(train_df['size'], train_df['price'], c='r', marker='x', label='Actual Values')\n",
    "\n",
    "# Set the title\n",
    "plt.title(\"Housing Prices\")\n",
    "# Set the y-axis label\n",
    "plt.ylabel('Price (in 1000s of dollars)')\n",
    "# Set the x-axis label\n",
    "plt.xlabel('Size (1000 sqft)')\n",
    "plt.legend()\n",
    "plt.show()"
   ]
  },
  {
   "cell_type": "markdown",
   "id": "ec1d184b",
   "metadata": {},
   "source": [
    "## Gradient Descent"
   ]
  },
  {
   "cell_type": "code",
   "execution_count": null,
   "id": "f4a92ee2",
   "metadata": {},
   "outputs": [],
   "source": [
    "def compute_gradient(X, y, w, b):\n",
    "    m, n = X.shape\n",
    "    \n",
    "    dj_dw = np.zeros((n,))\n",
    "    dj_db = 0\n",
    "    \n",
    "    for i in range(m):\n",
    "        err = np.dot(w, X[i]) + b - y[i]\n",
    "        \n",
    "        for j in range(n):\n",
    "            dj_dw[j] += err * X[i,j]\n",
    "            \n",
    "        dj_db += err\n",
    "    \n",
    "    dj_dw /= m\n",
    "    dj_db /= m\n",
    "    \n",
    "    return dj_db, dj_dw"
   ]
  },
  {
   "cell_type": "code",
   "execution_count": null,
   "id": "4937dd09",
   "metadata": {},
   "outputs": [],
   "source": [
    "def gradient_descent(X, y, w_initial, b_initial, cost_function, gradient_function, alpha, num_iter):\n",
    "    w = copy.deepcopy(w_initial)\n",
    "    b = b_initial\n",
    "    j_history = []\n",
    "    \n",
    "    for i in range(num_iter):\n",
    "        dj_db, dj_dw = gradient_function(X, y, w, b)\n",
    "        \n",
    "        w = w - alpha * dj_dw\n",
    "        b = b - alpha * dj_db\n",
    "        \n",
    "        if i < 10000000:\n",
    "            j_history.append(cost_function(X, y, w, b))\n",
    "        \n",
    "        if i % (num_iter // 10) == 0:\n",
    "            print(f\"Iteration {i:4d}: Cost {j_history[-1]:8.2f}\")\n",
    "    \n",
    "    return w, b, j_history"
   ]
  },
  {
   "cell_type": "code",
   "execution_count": null,
   "id": "870ecfc5",
   "metadata": {},
   "outputs": [],
   "source": [
    "w, b, j_history = gradient_descent(X, y, w_initial, b_initial, compute_cost, compute_gradient, 5.0e-6, 1000000)"
   ]
  },
  {
   "cell_type": "code",
   "execution_count": null,
   "id": "43746c61",
   "metadata": {},
   "outputs": [],
   "source": [
    "def predict(x, w, b):\n",
    "    return np.dot(x, w) + b"
   ]
  },
  {
   "cell_type": "code",
   "execution_count": null,
   "id": "8771f63b",
   "metadata": {},
   "outputs": [],
   "source": [
    "# plot cost versus iteration  \n",
    "fig, (ax1, ax2) = plt.subplots(1, 2, constrained_layout=True, figsize=(12,4))\n",
    "ax1.plot(j_history[:100])\n",
    "ax2.plot(1000 + np.arange(len(j_history[1000:])), j_history[1000:])\n",
    "ax1.set_title(\"Cost vs. iteration(start)\");  ax2.set_title(\"Cost vs. iteration (end)\")\n",
    "ax1.set_ylabel('Cost')            ;  ax2.set_ylabel('Cost') \n",
    "ax1.set_xlabel('iteration step')  ;  ax2.set_xlabel('iteration step') \n",
    "plt.show()"
   ]
  },
  {
   "cell_type": "code",
   "execution_count": null,
   "id": "96c18185",
   "metadata": {},
   "outputs": [],
   "source": [
    "# plot training data and the model\n",
    "train_df = train_data[['size','price']] / 1000\n",
    "\n",
    "plt.plot(train_df['size'], train_df['size'] * w[0] + b, label='Predicted Values')\n",
    "plt.scatter(train_df['size'], train_df['price'], c='r', marker='x', label='Actual Values')\n",
    "\n",
    "# Set the title\n",
    "plt.title(\"Housing Prices\")\n",
    "# Set the y-axis label\n",
    "plt.ylabel('Price (in 1000s of dollars)')\n",
    "# Set the x-axis label\n",
    "plt.xlabel('Size (1000 sqft)')\n",
    "plt.legend()\n",
    "plt.show()"
   ]
  },
  {
   "cell_type": "code",
   "execution_count": null,
   "id": "2fc6e07a",
   "metadata": {},
   "outputs": [],
   "source": [
    "def compute_accuracy(X, y, w, b):\n",
    "    accuracy = 0\n",
    "    m = X.shape[0]\n",
    "    \n",
    "    for i in range(m):\n",
    "        accuracy += 1 - abs(X[i].dot(w) + b - y[i]) / y[i]\n",
    "    \n",
    "    return accuracy / m"
   ]
  },
  {
   "cell_type": "code",
   "execution_count": null,
   "id": "61e778dc",
   "metadata": {},
   "outputs": [],
   "source": [
    "X = test_data['size'].to_numpy().reshape(-1, 1) / 1000\n",
    "y = test_data['price'].to_numpy() / 1000\n",
    "print(f'accuracy={compute_accuracy(X, y, w, b) * 100:.2f}%')"
   ]
  }
 ],
 "metadata": {
  "kernelspec": {
   "display_name": "Python 3 (ipykernel)",
   "language": "python",
   "name": "python3"
  },
  "language_info": {
   "codemirror_mode": {
    "name": "ipython",
    "version": 3
   },
   "file_extension": ".py",
   "mimetype": "text/x-python",
   "name": "python",
   "nbconvert_exporter": "python",
   "pygments_lexer": "ipython3",
   "version": "3.10.5"
  }
 },
 "nbformat": 4,
 "nbformat_minor": 5
}
