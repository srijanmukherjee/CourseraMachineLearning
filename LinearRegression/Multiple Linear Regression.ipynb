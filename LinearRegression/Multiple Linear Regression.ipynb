{
 "cells": [
  {
   "cell_type": "markdown",
   "id": "4f07e6db",
   "metadata": {},
   "source": [
    "# Linear Regression\n",
    "\n",
    "Implementation of multiple linear regression from scratch\n",
    "\n",
    "**Problem Statement**\n",
    "Predict the price of a house given it's size"
   ]
  },
  {
   "cell_type": "code",
   "execution_count": 1,
   "id": "cfad51aa",
   "metadata": {},
   "outputs": [],
   "source": [
    "import pandas as pd\n",
    "import numpy as np\n",
    "import matplotlib.pyplot as plt\n",
    "import copy"
   ]
  },
  {
   "cell_type": "code",
   "execution_count": 49,
   "id": "7793e362",
   "metadata": {},
   "outputs": [],
   "source": [
    "# load training data\n",
    "data_file = 'data.txt'\n",
    "df = pd.read_csv(data_file, names=['size', 'no. of bedrooms', 'price'], sep=',')"
   ]
  },
  {
   "cell_type": "code",
   "execution_count": 50,
   "id": "0b8c1a81",
   "metadata": {},
   "outputs": [
    {
     "name": "stdout",
     "output_type": "stream",
     "text": [
      "data size: 47\n"
     ]
    },
    {
     "data": {
      "text/html": [
       "<div>\n",
       "<style scoped>\n",
       "    .dataframe tbody tr th:only-of-type {\n",
       "        vertical-align: middle;\n",
       "    }\n",
       "\n",
       "    .dataframe tbody tr th {\n",
       "        vertical-align: top;\n",
       "    }\n",
       "\n",
       "    .dataframe thead th {\n",
       "        text-align: right;\n",
       "    }\n",
       "</style>\n",
       "<table border=\"1\" class=\"dataframe\">\n",
       "  <thead>\n",
       "    <tr style=\"text-align: right;\">\n",
       "      <th></th>\n",
       "      <th>size</th>\n",
       "      <th>no. of bedrooms</th>\n",
       "      <th>price</th>\n",
       "    </tr>\n",
       "  </thead>\n",
       "  <tbody>\n",
       "    <tr>\n",
       "      <th>0</th>\n",
       "      <td>2104</td>\n",
       "      <td>3</td>\n",
       "      <td>399900</td>\n",
       "    </tr>\n",
       "    <tr>\n",
       "      <th>1</th>\n",
       "      <td>1600</td>\n",
       "      <td>3</td>\n",
       "      <td>329900</td>\n",
       "    </tr>\n",
       "    <tr>\n",
       "      <th>2</th>\n",
       "      <td>2400</td>\n",
       "      <td>3</td>\n",
       "      <td>369000</td>\n",
       "    </tr>\n",
       "    <tr>\n",
       "      <th>3</th>\n",
       "      <td>1416</td>\n",
       "      <td>2</td>\n",
       "      <td>232000</td>\n",
       "    </tr>\n",
       "    <tr>\n",
       "      <th>4</th>\n",
       "      <td>3000</td>\n",
       "      <td>4</td>\n",
       "      <td>539900</td>\n",
       "    </tr>\n",
       "  </tbody>\n",
       "</table>\n",
       "</div>"
      ],
      "text/plain": [
       "   size  no. of bedrooms   price\n",
       "0  2104                3  399900\n",
       "1  1600                3  329900\n",
       "2  2400                3  369000\n",
       "3  1416                2  232000\n",
       "4  3000                4  539900"
      ]
     },
     "execution_count": 50,
     "metadata": {},
     "output_type": "execute_result"
    }
   ],
   "source": [
    "print(f\"data size: {len(df)}\")\n",
    "df.head()"
   ]
  },
  {
   "cell_type": "code",
   "execution_count": 51,
   "id": "5b2b8eb8",
   "metadata": {},
   "outputs": [],
   "source": [
    "def split_train_test(df, train_frac: float, seed=200):\n",
    "    \"\"\"\n",
    "    splits the data into training and test data in the given required fraction of train data\n",
    "    \"\"\"\n",
    "    train = df.sample(frac=train_frac, random_state=seed)\n",
    "    test  = df.drop(train.index)\n",
    "    return train, test"
   ]
  },
  {
   "cell_type": "code",
   "execution_count": 52,
   "id": "8e454154",
   "metadata": {},
   "outputs": [
    {
     "name": "stdout",
     "output_type": "stream",
     "text": [
      "training data - 38\n",
      "    size  no. of bedrooms   price\n",
      "28  2200                3  475000\n",
      "29  2637                3  299900\n",
      "30  1839                2  349900\n",
      "36  1239                3  229900\n",
      "17  1236                3  199900\n",
      "\n",
      "test data - 9\n",
      "    size  no. of bedrooms   price\n",
      "4   3000                4  539900\n",
      "12  1890                3  329999\n",
      "14  1268                3  259900\n",
      "15  2300                4  449900\n",
      "16  1320                2  299900\n"
     ]
    }
   ],
   "source": [
    "# split the data into training and testing set\n",
    "train_data, test_data = split_train_test(df, 0.8)\n",
    "print(f\"training data - {len(train_data)}\")\n",
    "print(train_data.head())\n",
    "print(f\"\\ntest data - {len(test_data)}\")\n",
    "print(test_data.head())"
   ]
  },
  {
   "cell_type": "markdown",
   "id": "5e5d8a71",
   "metadata": {},
   "source": [
    "## Cost function\n",
    "\n",
    "The cost function is used to get a sense of \"how well our model is performing\" <br>\n",
    "It can be defined as:\n",
    "\n",
    "<font size=4> J(**w**,b) = $\\frac{1}{2m}$.$\\sum_{i=1}^{m} (f_{\\mathbf{w},b}(\\mathbf{x}^{(i)}) - y^{(i)})^2$</font>"
   ]
  },
  {
   "cell_type": "code",
   "execution_count": 53,
   "id": "7dcc7897",
   "metadata": {},
   "outputs": [],
   "source": [
    "def compute_cost(X, y, w, b):\n",
    "    m = X.shape[0]\n",
    "    \n",
    "    cost = 0\n",
    "    for i in range(m):\n",
    "        f_wb_i = np.dot(w, X[i]) + b\n",
    "        cost = cost + (f_wb_i - y[i]) ** 2\n",
    "    \n",
    "    return cost * 0.5 / m"
   ]
  },
  {
   "cell_type": "code",
   "execution_count": 54,
   "id": "e647b9c3",
   "metadata": {},
   "outputs": [
    {
     "data": {
      "text/plain": [
       "array([[2.2  , 3.   ],\n",
       "       [2.637, 3.   ],\n",
       "       [1.839, 2.   ],\n",
       "       [1.239, 3.   ],\n",
       "       [1.236, 3.   ],\n",
       "       [1.767, 3.   ],\n",
       "       [3.89 , 3.   ],\n",
       "       [1.852, 4.   ],\n",
       "       [2.609, 4.   ],\n",
       "       [1.985, 4.   ],\n",
       "       [2.4  , 3.   ],\n",
       "       [1.203, 3.   ],\n",
       "       [1.437, 3.   ],\n",
       "       [2.104, 3.   ],\n",
       "       [1.2  , 3.   ],\n",
       "       [1.38 , 3.   ],\n",
       "       [1.416, 2.   ],\n",
       "       [1.811, 4.   ],\n",
       "       [1.94 , 4.   ],\n",
       "       [1.   , 1.   ],\n",
       "       [0.852, 2.   ],\n",
       "       [4.478, 5.   ],\n",
       "       [1.604, 3.   ],\n",
       "       [2.04 , 4.   ],\n",
       "       [1.888, 2.   ],\n",
       "       [1.962, 4.   ],\n",
       "       [4.215, 4.   ],\n",
       "       [3.137, 3.   ],\n",
       "       [1.664, 2.   ],\n",
       "       [1.494, 3.   ],\n",
       "       [2.132, 4.   ],\n",
       "       [3.031, 4.   ],\n",
       "       [1.427, 3.   ],\n",
       "       [1.6  , 3.   ],\n",
       "       [1.534, 3.   ],\n",
       "       [2.   , 3.   ],\n",
       "       [2.162, 4.   ],\n",
       "       [2.526, 3.   ]])"
      ]
     },
     "execution_count": 54,
     "metadata": {},
     "output_type": "execute_result"
    }
   ],
   "source": [
    "train_data[['size', 'price']] /= 1000\n",
    "_X = train_data[['size', 'no. of bedrooms']].to_numpy()"
   ]
  },
  {
   "cell_type": "code",
   "execution_count": 55,
   "id": "4d46b2b8",
   "metadata": {},
   "outputs": [
    {
     "name": "stdout",
     "output_type": "stream",
     "text": [
      "with w=[0. 0.] b=0 \n",
      "cost=64732.5773\n"
     ]
    }
   ],
   "source": [
    "X, y = _X, train_data['price'].to_numpy()\n",
    "w_initial = np.zeros((X.shape[1],))\n",
    "b_initial = 0\n",
    "cost = compute_cost(X, y, w_initial, b_initial)\n",
    "print(f\"with w={w_initial} b={b_initial} \\n{cost=:.4f}\")"
   ]
  },
  {
   "cell_type": "code",
   "execution_count": 56,
   "id": "6f196cbc",
   "metadata": {},
   "outputs": [
    {
     "data": {
      "image/png": "[encoded data removed]",
      "text/plain": [
       "<Figure size 432x288 with 1 Axes>"
      ]
     },
     "metadata": {
      "needs_background": "light"
     },
     "output_type": "display_data"
    }
   ],
   "source": [
    "# plot training data\n",
    "train_df = train_data[['size','price']]\n",
    "\n",
    "plt.scatter(train_df['size'], train_df['price'], c='r', marker='x', label='Actual Values')\n",
    "\n",
    "# Set the title\n",
    "plt.title(\"Housing Prices\")\n",
    "# Set the y-axis label\n",
    "plt.ylabel('Price (in 1000s of dollars)')\n",
    "# Set the x-axis label\n",
    "plt.xlabel('Size (1000 sqft)')\n",
    "plt.legend()\n",
    "plt.show()"
   ]
  },
  {
   "cell_type": "markdown",
   "id": "ec1d184b",
   "metadata": {},
   "source": [
    "## Gradient Descent"
   ]
  },
  {
   "cell_type": "code",
   "execution_count": 57,
   "id": "f4a92ee2",
   "metadata": {},
   "outputs": [],
   "source": [
    "def compute_gradient(X, y, w, b):\n",
    "    m, n = X.shape\n",
    "    \n",
    "    dj_dw = np.zeros((n,))\n",
    "    dj_db = 0\n",
    "    \n",
    "    for i in range(m):\n",
    "        err = np.dot(w, X[i]) + b - y[i]\n",
    "        \n",
    "        for j in range(n):\n",
    "            dj_dw[j] += err * X[i,j]\n",
    "            \n",
    "        dj_db += err\n",
    "    \n",
    "    dj_dw /= m\n",
    "    dj_db /= m\n",
    "    \n",
    "    return dj_db, dj_dw"
   ]
  },
  {
   "cell_type": "code",
   "execution_count": 58,
   "id": "4937dd09",
   "metadata": {},
   "outputs": [],
   "source": [
    "def gradient_descent(X, y, w_initial, b_initial, cost_function, gradient_function, alpha, num_iter):\n",
    "    w = copy.deepcopy(w_initial)\n",
    "    b = b_initial\n",
    "    j_history = []\n",
    "    \n",
    "    for i in range(num_iter):\n",
    "        dj_db, dj_dw = gradient_function(X, y, w, b)\n",
    "        \n",
    "        w = w - alpha * dj_dw\n",
    "        b = b - alpha * dj_db\n",
    "        \n",
    "        if i < 10000000:\n",
    "            j_history.append(cost_function(X, y, w, b))\n",
    "        \n",
    "        if i % (num_iter // 10) == 0:\n",
    "            print(f\"Iteration {i:4d}: Cost {j_history[-1]:8.2f}\")\n",
    "    \n",
    "    return w, b, j_history"
   ]
  },
  {
   "cell_type": "code",
   "execution_count": 59,
   "id": "870ecfc5",
   "metadata": {},
   "outputs": [
    {
     "name": "stdout",
     "output_type": "stream",
     "text": [
      "Iteration    0: Cost 64722.93\n",
      "Iteration 100000: Cost  3517.25\n",
      "Iteration 200000: Cost  2995.25\n",
      "Iteration 300000: Cost  2624.79\n",
      "Iteration 400000: Cost  2361.50\n",
      "Iteration 500000: Cost  2174.01\n",
      "Iteration 600000: Cost  2040.15\n",
      "Iteration 700000: Cost  1944.27\n",
      "Iteration 800000: Cost  1875.29\n",
      "Iteration 900000: Cost  1825.38\n"
     ]
    }
   ],
   "source": [
    "w, b, j_history = gradient_descent(X, y, w_initial, b_initial, compute_cost, compute_gradient, 5.0e-6, 1000000)"
   ]
  },
  {
   "cell_type": "code",
   "execution_count": 60,
   "id": "43746c61",
   "metadata": {},
   "outputs": [],
   "source": [
    "def predict(x, w, b):\n",
    "    return np.dot(x, w) + b"
   ]
  },
  {
   "cell_type": "code",
   "execution_count": 61,
   "id": "8771f63b",
   "metadata": {},
   "outputs": [
    {
     "data": {
      "image/png": "[encoded data removed]",
      "text/plain": [
       "<Figure size 864x288 with 2 Axes>"
      ]
     },
     "metadata": {
      "needs_background": "light"
     },
     "output_type": "display_data"
    }
   ],
   "source": [
    "# plot cost versus iteration  \n",
    "fig, (ax1, ax2) = plt.subplots(1, 2, constrained_layout=True, figsize=(12,4))\n",
    "ax1.plot(j_history[:100])\n",
    "ax2.plot(1000 + np.arange(len(j_history[1000:])), j_history[1000:])\n",
    "ax1.set_title(\"Cost vs. iteration(start)\");  ax2.set_title(\"Cost vs. iteration (end)\")\n",
    "ax1.set_ylabel('Cost')            ;  ax2.set_ylabel('Cost') \n",
    "ax1.set_xlabel('iteration step')  ;  ax2.set_xlabel('iteration step') \n",
    "plt.show()"
   ]
  },
  {
   "cell_type": "code",
   "execution_count": 62,
   "id": "96c18185",
   "metadata": {},
   "outputs": [
    {
     "data": {
      "image/png": "[encoded data removed]",
      "text/plain": [
       "<Figure size 864x288 with 2 Axes>"
      ]
     },
     "metadata": {
      "needs_background": "light"
     },
     "output_type": "display_data"
    }
   ],
   "source": [
    "# plot training data and the model\n",
    "train_df = train_data[['size','price', 'no. of bedrooms']]\n",
    "\n",
    "fig, (ax1, ax2) = plt.subplots(1, 2, constrained_layout=True, figsize=(12, 4))\n",
    "ax1.plot(train_df['size'], train_df['size'] * w[0] + b, label='Predicted Values')\n",
    "ax1.scatter(train_df['size'], train_df['price'], c='r', marker='x', label='Actual Values')\n",
    "ax1.set_title(\"Housing Prices\")\n",
    "ax1.set_ylabel('Price (in 1000s of dollars)')\n",
    "ax1.set_xlabel('Size (1000 sqft)')\n",
    "ax1.legend()\n",
    "\n",
    "ax2.plot(train_df['no. of bedrooms'], train_df['no. of bedrooms'] * w[1] + b, label='Predicted Values')\n",
    "ax2.scatter(train_df['no. of bedrooms'], train_df['price'], c='g', marker='o', label='Actual Values')\n",
    "ax2.set_title(\"Housing Prices\")\n",
    "ax2.set_ylabel('Price (in 1000s of dollars)')\n",
    "ax2.set_xlabel('Bedrooms')\n",
    "ax2.legend()\n",
    "\n",
    "plt.show()"
   ]
  },
  {
   "cell_type": "code",
   "execution_count": 63,
   "id": "2fc6e07a",
   "metadata": {},
   "outputs": [],
   "source": [
    "def compute_accuracy(X, y, w, b):\n",
    "    accuracy = 0\n",
    "    m = X.shape[0]\n",
    "    \n",
    "    for i in range(m):\n",
    "        accuracy += 1 - abs(X[i].dot(w) + b - y[i]) / y[i]\n",
    "    \n",
    "    return accuracy / m"
   ]
  },
  {
   "cell_type": "code",
   "execution_count": 64,
   "id": "61e778dc",
   "metadata": {},
   "outputs": [
    {
     "name": "stdout",
     "output_type": "stream",
     "text": [
      "accuracy=81.29%\n"
     ]
    }
   ],
   "source": [
    "test_data[['size', 'price']] /= 1000\n",
    "_X = test_data[['size', 'no. of bedrooms']].to_numpy()\n",
    "X = _X\n",
    "y = test_data['price'].to_numpy()\n",
    "print(f'accuracy={compute_accuracy(X, y, w, b) * 100:.2f}%')"
   ]
  },
  {
   "cell_type": "code",
   "execution_count": 71,
   "id": "54d66c2f",
   "metadata": {},
   "outputs": [
    {
     "data": {
      "text/plain": [
       "458229.17973293836"
      ]
     },
     "execution_count": 71,
     "metadata": {},
     "output_type": "execute_result"
    }
   ],
   "source": [
    "predict([3, 3], w, b) * 1000"
   ]
  },
  {
   "cell_type": "code",
   "execution_count": null,
   "id": "1a0dc74c",
   "metadata": {},
   "outputs": [],
   "source": []
  }
 ],
 "metadata": {
  "kernelspec": {
   "display_name": "Python 3 (ipykernel)",
   "language": "python",
   "name": "python3"
  },
  "language_info": {
   "codemirror_mode": {
    "name": "ipython",
    "version": 3
   },
   "file_extension": ".py",
   "mimetype": "text/x-python",
   "name": "python",
   "nbconvert_exporter": "python",
   "pygments_lexer": "ipython3",
   "version": "3.10.5"
  }
 },
 "nbformat": 4,
 "nbformat_minor": 5
}
